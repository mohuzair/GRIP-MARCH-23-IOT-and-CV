{
 "cells": [
  {
   "cell_type": "code",
   "execution_count": 1,
   "id": "b372387d",
   "metadata": {},
   "outputs": [],
   "source": [
    "#Mohhamed Uzair (IOT and Computer Vision Intern)"
   ]
  },
  {
   "cell_type": "code",
   "execution_count": 2,
   "id": "85f798aa",
   "metadata": {},
   "outputs": [],
   "source": [
    "import cv2\n",
    "import pandas as pd"
   ]
  },
  {
   "cell_type": "code",
   "execution_count": 3,
   "id": "a9c6fedc",
   "metadata": {},
   "outputs": [],
   "source": [
    "img_path = 'img.jpg'\n",
    "csv_path = 'colors.csv'"
   ]
  },
  {
   "cell_type": "code",
   "execution_count": 4,
   "id": "980afc72",
   "metadata": {},
   "outputs": [],
   "source": [
    "index = ['color','color_name','hex','R','G','B']\n",
    "df = pd.read_csv(csv_path, names=index,header = None)"
   ]
  },
  {
   "cell_type": "code",
   "execution_count": 5,
   "id": "090a1d65",
   "metadata": {},
   "outputs": [],
   "source": [
    "img = cv2.imread(img_path)\n",
    "img = cv2.resize(img,(800,600))"
   ]
  },
  {
   "cell_type": "code",
   "execution_count": 6,
   "id": "ed93917f",
   "metadata": {},
   "outputs": [],
   "source": [
    "clicked = False\n",
    "r = g = b = xpos = ypos = 0"
   ]
  },
  {
   "cell_type": "code",
   "execution_count": 7,
   "id": "f0730858",
   "metadata": {},
   "outputs": [],
   "source": [
    "def get_color_name(R,G,B):\n",
    "    minimum = 1000\n",
    "    for i in range(len(df)):\n",
    "        d = abs(R-int(df.loc[i,'R'])) + abs(G-int(df.loc[i,'G'])) + abs(B-int(df.loc[i,'B']))\n",
    "        if d <= minimum:\n",
    "            minimum = d\n",
    "            cname = df.loc[i,'color_name']\n",
    "    return cname"
   ]
  },
  {
   "cell_type": "code",
   "execution_count": 8,
   "id": "b9ad7f9c",
   "metadata": {},
   "outputs": [],
   "source": [
    "def draw_function(event,x,y,flags,params):\n",
    "    if event == cv2.EVENT_LBUTTONDBLCLK:\n",
    "        global clicked,r,g,b,xpos,ypos\n",
    "        clicked = True\n",
    "        xpos = x\n",
    "        ypos = y\n",
    "        b,g,r = img[y,x]\n",
    "        b = int(b)\n",
    "        g = int(g)\n",
    "        r = int(r)"
   ]
  },
  {
   "cell_type": "code",
   "execution_count": 9,
   "id": "1c314234",
   "metadata": {},
   "outputs": [
    {
     "name": "stderr",
     "output_type": "stream",
     "text": [
      "\n",
      "KeyboardInterrupt\n",
      "\n"
     ]
    }
   ],
   "source": [
    "cv2.namedWindow('image')\n",
    "\n",
    "cv2.setMouseCallback('image', draw_function)\n",
    "\n",
    "while True:\n",
    "    cv2.imshow('image',img)\n",
    "    if clicked:\n",
    "        #Making a colored strip to show our text on\n",
    "        cv2.rectangle(img, (20,20), (600,60),(b,g,r), -1)\n",
    "\n",
    "        #Getting the color name and storing in text variable\n",
    "        text = get_color_name(r,g,b) + 'R='+ str(r) + 'G=' + str(g) + 'B=' + str(b)\n",
    "\n",
    "        #Putting the text onto the strip that we created above\n",
    "        cv2.putText(img,text,(50,50),2,0.8,(255,255,255),2,cv2.LINE_AA)\n",
    "\n",
    "\n",
    "        if r+g+b >= 600: #If the colors are dim\n",
    "            cv2.putText(img,text,(50,50),2,0.8,(0,0,0),2,cv2.LINE_AA) #We want our text to be black\n",
    "\n",
    "    if cv2.waitKey(20) & 0xFF == 27:\n",
    "        break\n",
    "cv2.waitKey(0)\n",
    "cv2.destroyAllWindows()\n"
   ]
  },
  {
   "cell_type": "code",
   "execution_count": null,
   "id": "e501a9e3",
   "metadata": {},
   "outputs": [],
   "source": []
  }
 ],
 "metadata": {
  "kernelspec": {
   "display_name": "Python 3 (ipykernel)",
   "language": "python",
   "name": "python3"
  },
  "language_info": {
   "codemirror_mode": {
    "name": "ipython",
    "version": 3
   },
   "file_extension": ".py",
   "mimetype": "text/x-python",
   "name": "python",
   "nbconvert_exporter": "python",
   "pygments_lexer": "ipython3",
   "version": "3.10.6"
  }
 },
 "nbformat": 4,
 "nbformat_minor": 5
}
